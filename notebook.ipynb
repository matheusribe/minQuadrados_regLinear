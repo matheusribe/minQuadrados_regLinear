{
  "cells": [
    {
      "cell_type": "markdown",
      "metadata": {
        "id": "VH-NomdS0rWH"
      },
      "source": [
        "# **ESTIMATIVA POR MÍNIMO QUADRADO**"
      ]
    },
    {
      "cell_type": "code",
      "execution_count": 48,
      "metadata": {
        "id": "A5LYSH9r3mbg"
      },
      "outputs": [],
      "source": [
        "import numpy as np\n",
        "import pandas as pd"
      ]
    },
    {
      "cell_type": "markdown",
      "metadata": {
        "id": "0bgLL5Xzf97l"
      },
      "source": [
        "### **Análise Inicial**"
      ]
    },
    {
      "cell_type": "code",
      "execution_count": 49,
      "metadata": {
        "id": "Gx279BoU4IuD"
      },
      "outputs": [],
      "source": [
        "nota = pd.read_excel('data/concurso.xlsx')"
      ]
    },
    {
      "cell_type": "code",
      "execution_count": 50,
      "metadata": {
        "colab": {
          "base_uri": "https://localhost:8080/",
          "height": 833
        },
        "id": "bDNyXnVH4bWe",
        "outputId": "55625071-92c8-442b-f578-cade332fac5b"
      },
      "outputs": [
        {
          "data": {
            "text/html": [
              "<div>\n",
              "<style scoped>\n",
              "    .dataframe tbody tr th:only-of-type {\n",
              "        vertical-align: middle;\n",
              "    }\n",
              "\n",
              "    .dataframe tbody tr th {\n",
              "        vertical-align: top;\n",
              "    }\n",
              "\n",
              "    .dataframe thead th {\n",
              "        text-align: right;\n",
              "    }\n",
              "</style>\n",
              "<table border=\"1\" class=\"dataframe\">\n",
              "  <thead>\n",
              "    <tr style=\"text-align: right;\">\n",
              "      <th></th>\n",
              "      <th>inicio_estudo</th>\n",
              "      <th>tempo_estudo_dia</th>\n",
              "      <th>nota</th>\n",
              "    </tr>\n",
              "  </thead>\n",
              "  <tbody>\n",
              "    <tr>\n",
              "      <th>0</th>\n",
              "      <td>5</td>\n",
              "      <td>120</td>\n",
              "      <td>8.1</td>\n",
              "    </tr>\n",
              "    <tr>\n",
              "      <th>1</th>\n",
              "      <td>13</td>\n",
              "      <td>90</td>\n",
              "      <td>6.8</td>\n",
              "    </tr>\n",
              "    <tr>\n",
              "      <th>2</th>\n",
              "      <td>20</td>\n",
              "      <td>120</td>\n",
              "      <td>7.0</td>\n",
              "    </tr>\n",
              "    <tr>\n",
              "      <th>3</th>\n",
              "      <td>28</td>\n",
              "      <td>60</td>\n",
              "      <td>7.4</td>\n",
              "    </tr>\n",
              "    <tr>\n",
              "      <th>4</th>\n",
              "      <td>20</td>\n",
              "      <td>150</td>\n",
              "      <td>9.3</td>\n",
              "    </tr>\n",
              "    <tr>\n",
              "      <th>5</th>\n",
              "      <td>24</td>\n",
              "      <td>150</td>\n",
              "      <td>7.5</td>\n",
              "    </tr>\n",
              "    <tr>\n",
              "      <th>6</th>\n",
              "      <td>18</td>\n",
              "      <td>60</td>\n",
              "      <td>7.6</td>\n",
              "    </tr>\n",
              "    <tr>\n",
              "      <th>7</th>\n",
              "      <td>8</td>\n",
              "      <td>120</td>\n",
              "      <td>8.0</td>\n",
              "    </tr>\n",
              "    <tr>\n",
              "      <th>8</th>\n",
              "      <td>2</td>\n",
              "      <td>240</td>\n",
              "      <td>7.0</td>\n",
              "    </tr>\n",
              "    <tr>\n",
              "      <th>9</th>\n",
              "      <td>12</td>\n",
              "      <td>90</td>\n",
              "      <td>7.3</td>\n",
              "    </tr>\n",
              "    <tr>\n",
              "      <th>10</th>\n",
              "      <td>15</td>\n",
              "      <td>90</td>\n",
              "      <td>8.6</td>\n",
              "    </tr>\n",
              "    <tr>\n",
              "      <th>11</th>\n",
              "      <td>9</td>\n",
              "      <td>120</td>\n",
              "      <td>8.3</td>\n",
              "    </tr>\n",
              "    <tr>\n",
              "      <th>12</th>\n",
              "      <td>6</td>\n",
              "      <td>180</td>\n",
              "      <td>7.9</td>\n",
              "    </tr>\n",
              "    <tr>\n",
              "      <th>13</th>\n",
              "      <td>4</td>\n",
              "      <td>90</td>\n",
              "      <td>6.4</td>\n",
              "    </tr>\n",
              "    <tr>\n",
              "      <th>14</th>\n",
              "      <td>8</td>\n",
              "      <td>150</td>\n",
              "      <td>7.8</td>\n",
              "    </tr>\n",
              "    <tr>\n",
              "      <th>15</th>\n",
              "      <td>12</td>\n",
              "      <td>120</td>\n",
              "      <td>9.4</td>\n",
              "    </tr>\n",
              "    <tr>\n",
              "      <th>16</th>\n",
              "      <td>10</td>\n",
              "      <td>180</td>\n",
              "      <td>8.8</td>\n",
              "    </tr>\n",
              "    <tr>\n",
              "      <th>17</th>\n",
              "      <td>3</td>\n",
              "      <td>90</td>\n",
              "      <td>6.9</td>\n",
              "    </tr>\n",
              "    <tr>\n",
              "      <th>18</th>\n",
              "      <td>15</td>\n",
              "      <td>180</td>\n",
              "      <td>7.7</td>\n",
              "    </tr>\n",
              "    <tr>\n",
              "      <th>19</th>\n",
              "      <td>9</td>\n",
              "      <td>90</td>\n",
              "      <td>8.2</td>\n",
              "    </tr>\n",
              "    <tr>\n",
              "      <th>20</th>\n",
              "      <td>24</td>\n",
              "      <td>120</td>\n",
              "      <td>8.6</td>\n",
              "    </tr>\n",
              "    <tr>\n",
              "      <th>21</th>\n",
              "      <td>5</td>\n",
              "      <td>150</td>\n",
              "      <td>8.1</td>\n",
              "    </tr>\n",
              "    <tr>\n",
              "      <th>22</th>\n",
              "      <td>7</td>\n",
              "      <td>120</td>\n",
              "      <td>7.2</td>\n",
              "    </tr>\n",
              "    <tr>\n",
              "      <th>23</th>\n",
              "      <td>12</td>\n",
              "      <td>180</td>\n",
              "      <td>8.5</td>\n",
              "    </tr>\n",
              "    <tr>\n",
              "      <th>24</th>\n",
              "      <td>2</td>\n",
              "      <td>90</td>\n",
              "      <td>6.1</td>\n",
              "    </tr>\n",
              "  </tbody>\n",
              "</table>\n",
              "</div>"
            ],
            "text/plain": [
              "    inicio_estudo  tempo_estudo_dia  nota\n",
              "0               5               120   8.1\n",
              "1              13                90   6.8\n",
              "2              20               120   7.0\n",
              "3              28                60   7.4\n",
              "4              20               150   9.3\n",
              "5              24               150   7.5\n",
              "6              18                60   7.6\n",
              "7               8               120   8.0\n",
              "8               2               240   7.0\n",
              "9              12                90   7.3\n",
              "10             15                90   8.6\n",
              "11              9               120   8.3\n",
              "12              6               180   7.9\n",
              "13              4                90   6.4\n",
              "14              8               150   7.8\n",
              "15             12               120   9.4\n",
              "16             10               180   8.8\n",
              "17              3                90   6.9\n",
              "18             15               180   7.7\n",
              "19              9                90   8.2\n",
              "20             24               120   8.6\n",
              "21              5               150   8.1\n",
              "22              7               120   7.2\n",
              "23             12               180   8.5\n",
              "24              2                90   6.1"
            ]
          },
          "execution_count": 50,
          "metadata": {},
          "output_type": "execute_result"
        }
      ],
      "source": [
        "nota.head(25)"
      ]
    },
    {
      "cell_type": "markdown",
      "metadata": {
        "id": "Bh7E8kqi9GUf"
      },
      "source": [
        "5.x + 120.y = 8.1\n",
        "\n",
        "13.x + 90.y = 6.8\n",
        "\n",
        "20.x + 120.y = 7\n",
        "\n",
        "28.x + 60.y = 7.4\n",
        "\n",
        "20.x + 150y = 9.3\n",
        "\n",
        "...."
      ]
    },
    {
      "cell_type": "code",
      "execution_count": 51,
      "metadata": {
        "colab": {
          "base_uri": "https://localhost:8080/"
        },
        "id": "OjThHbIHG3mh",
        "outputId": "cd8f4627-fcb3-4880-e5fc-02115a677102"
      },
      "outputs": [
        {
          "data": {
            "text/plain": [
              "(25, 3)"
            ]
          },
          "execution_count": 51,
          "metadata": {},
          "output_type": "execute_result"
        }
      ],
      "source": [
        "nota.shape"
      ]
    },
    {
      "cell_type": "code",
      "execution_count": 52,
      "metadata": {
        "colab": {
          "base_uri": "https://localhost:8080/",
          "height": 178
        },
        "id": "rJtkCDi03apf",
        "outputId": "77ff9770-d9c1-41ca-b97f-145e35bf33b1"
      },
      "outputs": [
        {
          "data": {
            "text/plain": [
              "inicio_estudo         int64\n",
              "tempo_estudo_dia      int64\n",
              "nota                float64\n",
              "dtype: object"
            ]
          },
          "execution_count": 52,
          "metadata": {},
          "output_type": "execute_result"
        }
      ],
      "source": [
        "# Análise dos tipos de atributos.\n",
        "# object: strings\n",
        "# int64: inteiros\n",
        "# float64: reais\n",
        "# complex: complexos\n",
        "nota.dtypes"
      ]
    },
    {
      "cell_type": "markdown",
      "metadata": {
        "id": "3lk5kf4eZ_sL"
      },
      "source": [
        "Valores Missing (NAN)"
      ]
    },
    {
      "cell_type": "code",
      "execution_count": 53,
      "metadata": {
        "colab": {
          "base_uri": "https://localhost:8080/",
          "height": 178
        },
        "id": "A24U7d5QYPaV",
        "outputId": "43de4ac1-e1a0-44b4-ccba-0806d6e750f2"
      },
      "outputs": [
        {
          "data": {
            "text/plain": [
              "inicio_estudo       0\n",
              "tempo_estudo_dia    0\n",
              "nota                0\n",
              "dtype: int64"
            ]
          },
          "execution_count": 53,
          "metadata": {},
          "output_type": "execute_result"
        }
      ],
      "source": [
        "nota.isnull().sum()"
      ]
    },
    {
      "cell_type": "markdown",
      "metadata": {
        "id": "LM9whgus2Onb"
      },
      "source": [
        "### **Criação da Matriz dos Coeficientes**"
      ]
    },
    {
      "cell_type": "code",
      "execution_count": 54,
      "metadata": {
        "colab": {
          "base_uri": "https://localhost:8080/",
          "height": 206
        },
        "id": "FaL6SMSWneyT",
        "outputId": "79007636-1830-48f0-f298-bf4df067e706"
      },
      "outputs": [
        {
          "data": {
            "text/html": [
              "<div>\n",
              "<style scoped>\n",
              "    .dataframe tbody tr th:only-of-type {\n",
              "        vertical-align: middle;\n",
              "    }\n",
              "\n",
              "    .dataframe tbody tr th {\n",
              "        vertical-align: top;\n",
              "    }\n",
              "\n",
              "    .dataframe thead th {\n",
              "        text-align: right;\n",
              "    }\n",
              "</style>\n",
              "<table border=\"1\" class=\"dataframe\">\n",
              "  <thead>\n",
              "    <tr style=\"text-align: right;\">\n",
              "      <th></th>\n",
              "      <th>inicio_estudo</th>\n",
              "      <th>tempo_estudo_dia</th>\n",
              "      <th>nota</th>\n",
              "    </tr>\n",
              "  </thead>\n",
              "  <tbody>\n",
              "    <tr>\n",
              "      <th>0</th>\n",
              "      <td>5</td>\n",
              "      <td>120</td>\n",
              "      <td>8.1</td>\n",
              "    </tr>\n",
              "    <tr>\n",
              "      <th>1</th>\n",
              "      <td>13</td>\n",
              "      <td>90</td>\n",
              "      <td>6.8</td>\n",
              "    </tr>\n",
              "    <tr>\n",
              "      <th>2</th>\n",
              "      <td>20</td>\n",
              "      <td>120</td>\n",
              "      <td>7.0</td>\n",
              "    </tr>\n",
              "    <tr>\n",
              "      <th>3</th>\n",
              "      <td>28</td>\n",
              "      <td>60</td>\n",
              "      <td>7.4</td>\n",
              "    </tr>\n",
              "    <tr>\n",
              "      <th>4</th>\n",
              "      <td>20</td>\n",
              "      <td>150</td>\n",
              "      <td>9.3</td>\n",
              "    </tr>\n",
              "  </tbody>\n",
              "</table>\n",
              "</div>"
            ],
            "text/plain": [
              "   inicio_estudo  tempo_estudo_dia  nota\n",
              "0              5               120   8.1\n",
              "1             13                90   6.8\n",
              "2             20               120   7.0\n",
              "3             28                60   7.4\n",
              "4             20               150   9.3"
            ]
          },
          "execution_count": 54,
          "metadata": {},
          "output_type": "execute_result"
        }
      ],
      "source": [
        "nota.head()"
      ]
    },
    {
      "cell_type": "code",
      "execution_count": 55,
      "metadata": {
        "colab": {
          "base_uri": "https://localhost:8080/",
          "height": 206
        },
        "id": "NIB468Gz6Ym0",
        "outputId": "3753fc51-96bd-4d3f-d997-4a57528f8c9e"
      },
      "outputs": [
        {
          "data": {
            "text/html": [
              "<div>\n",
              "<style scoped>\n",
              "    .dataframe tbody tr th:only-of-type {\n",
              "        vertical-align: middle;\n",
              "    }\n",
              "\n",
              "    .dataframe tbody tr th {\n",
              "        vertical-align: top;\n",
              "    }\n",
              "\n",
              "    .dataframe thead th {\n",
              "        text-align: right;\n",
              "    }\n",
              "</style>\n",
              "<table border=\"1\" class=\"dataframe\">\n",
              "  <thead>\n",
              "    <tr style=\"text-align: right;\">\n",
              "      <th></th>\n",
              "      <th>inicio_estudo</th>\n",
              "      <th>tempo_estudo_dia</th>\n",
              "    </tr>\n",
              "  </thead>\n",
              "  <tbody>\n",
              "    <tr>\n",
              "      <th>0</th>\n",
              "      <td>5</td>\n",
              "      <td>120</td>\n",
              "    </tr>\n",
              "    <tr>\n",
              "      <th>1</th>\n",
              "      <td>13</td>\n",
              "      <td>90</td>\n",
              "    </tr>\n",
              "    <tr>\n",
              "      <th>2</th>\n",
              "      <td>20</td>\n",
              "      <td>120</td>\n",
              "    </tr>\n",
              "    <tr>\n",
              "      <th>3</th>\n",
              "      <td>28</td>\n",
              "      <td>60</td>\n",
              "    </tr>\n",
              "    <tr>\n",
              "      <th>4</th>\n",
              "      <td>20</td>\n",
              "      <td>150</td>\n",
              "    </tr>\n",
              "  </tbody>\n",
              "</table>\n",
              "</div>"
            ],
            "text/plain": [
              "   inicio_estudo  tempo_estudo_dia\n",
              "0              5               120\n",
              "1             13                90\n",
              "2             20               120\n",
              "3             28                60\n",
              "4             20               150"
            ]
          },
          "execution_count": 55,
          "metadata": {},
          "output_type": "execute_result"
        }
      ],
      "source": [
        "A = nota.drop(columns=['nota'])\n",
        "A.head()"
      ]
    },
    {
      "cell_type": "code",
      "execution_count": 56,
      "metadata": {
        "colab": {
          "base_uri": "https://localhost:8080/"
        },
        "id": "9_IYFq707TX_",
        "outputId": "c184549b-c839-482f-c007-a9a01587a3dd"
      },
      "outputs": [
        {
          "name": "stdout",
          "output_type": "stream",
          "text": [
            "[[  5 120]\n",
            " [ 13  90]\n",
            " [ 20 120]\n",
            " [ 28  60]\n",
            " [ 20 150]\n",
            " [ 24 150]\n",
            " [ 18  60]\n",
            " [  8 120]\n",
            " [  2 240]\n",
            " [ 12  90]\n",
            " [ 15  90]\n",
            " [  9 120]\n",
            " [  6 180]\n",
            " [  4  90]\n",
            " [  8 150]\n",
            " [ 12 120]\n",
            " [ 10 180]\n",
            " [  3  90]\n",
            " [ 15 180]\n",
            " [  9  90]\n",
            " [ 24 120]\n",
            " [  5 150]\n",
            " [  7 120]\n",
            " [ 12 180]\n",
            " [  2  90]]\n"
          ]
        }
      ],
      "source": [
        "A = A.values\n",
        "print (A)"
      ]
    },
    {
      "cell_type": "code",
      "execution_count": 57,
      "metadata": {
        "colab": {
          "base_uri": "https://localhost:8080/"
        },
        "id": "azSkRepD_NvZ",
        "outputId": "c0ae3497-687e-4c89-c38b-76ee4fbf95c6"
      },
      "outputs": [
        {
          "data": {
            "text/plain": [
              "numpy.ndarray"
            ]
          },
          "execution_count": 57,
          "metadata": {},
          "output_type": "execute_result"
        }
      ],
      "source": [
        "type(A)"
      ]
    },
    {
      "cell_type": "markdown",
      "metadata": {
        "id": "_jumeSU42yxu"
      },
      "source": [
        "### **Criação da Matriz das Constantes**"
      ]
    },
    {
      "cell_type": "code",
      "execution_count": 58,
      "metadata": {
        "colab": {
          "base_uri": "https://localhost:8080/",
          "height": 206
        },
        "id": "3dYEUQgnoUqT",
        "outputId": "313f1abf-9e65-453a-c306-677bfe859ec2"
      },
      "outputs": [
        {
          "data": {
            "text/html": [
              "<div>\n",
              "<style scoped>\n",
              "    .dataframe tbody tr th:only-of-type {\n",
              "        vertical-align: middle;\n",
              "    }\n",
              "\n",
              "    .dataframe tbody tr th {\n",
              "        vertical-align: top;\n",
              "    }\n",
              "\n",
              "    .dataframe thead th {\n",
              "        text-align: right;\n",
              "    }\n",
              "</style>\n",
              "<table border=\"1\" class=\"dataframe\">\n",
              "  <thead>\n",
              "    <tr style=\"text-align: right;\">\n",
              "      <th></th>\n",
              "      <th>inicio_estudo</th>\n",
              "      <th>tempo_estudo_dia</th>\n",
              "      <th>nota</th>\n",
              "    </tr>\n",
              "  </thead>\n",
              "  <tbody>\n",
              "    <tr>\n",
              "      <th>0</th>\n",
              "      <td>5</td>\n",
              "      <td>120</td>\n",
              "      <td>8.1</td>\n",
              "    </tr>\n",
              "    <tr>\n",
              "      <th>1</th>\n",
              "      <td>13</td>\n",
              "      <td>90</td>\n",
              "      <td>6.8</td>\n",
              "    </tr>\n",
              "    <tr>\n",
              "      <th>2</th>\n",
              "      <td>20</td>\n",
              "      <td>120</td>\n",
              "      <td>7.0</td>\n",
              "    </tr>\n",
              "    <tr>\n",
              "      <th>3</th>\n",
              "      <td>28</td>\n",
              "      <td>60</td>\n",
              "      <td>7.4</td>\n",
              "    </tr>\n",
              "    <tr>\n",
              "      <th>4</th>\n",
              "      <td>20</td>\n",
              "      <td>150</td>\n",
              "      <td>9.3</td>\n",
              "    </tr>\n",
              "  </tbody>\n",
              "</table>\n",
              "</div>"
            ],
            "text/plain": [
              "   inicio_estudo  tempo_estudo_dia  nota\n",
              "0              5               120   8.1\n",
              "1             13                90   6.8\n",
              "2             20               120   7.0\n",
              "3             28                60   7.4\n",
              "4             20               150   9.3"
            ]
          },
          "execution_count": 58,
          "metadata": {},
          "output_type": "execute_result"
        }
      ],
      "source": [
        "nota.head()"
      ]
    },
    {
      "cell_type": "code",
      "execution_count": 59,
      "metadata": {
        "colab": {
          "base_uri": "https://localhost:8080/",
          "height": 206
        },
        "id": "QSorVbBtBWNb",
        "outputId": "aa4e6b40-202d-4031-e090-40ebfae31900"
      },
      "outputs": [
        {
          "data": {
            "text/html": [
              "<div>\n",
              "<style scoped>\n",
              "    .dataframe tbody tr th:only-of-type {\n",
              "        vertical-align: middle;\n",
              "    }\n",
              "\n",
              "    .dataframe tbody tr th {\n",
              "        vertical-align: top;\n",
              "    }\n",
              "\n",
              "    .dataframe thead th {\n",
              "        text-align: right;\n",
              "    }\n",
              "</style>\n",
              "<table border=\"1\" class=\"dataframe\">\n",
              "  <thead>\n",
              "    <tr style=\"text-align: right;\">\n",
              "      <th></th>\n",
              "      <th>nota</th>\n",
              "    </tr>\n",
              "  </thead>\n",
              "  <tbody>\n",
              "    <tr>\n",
              "      <th>0</th>\n",
              "      <td>8.1</td>\n",
              "    </tr>\n",
              "    <tr>\n",
              "      <th>1</th>\n",
              "      <td>6.8</td>\n",
              "    </tr>\n",
              "    <tr>\n",
              "      <th>2</th>\n",
              "      <td>7.0</td>\n",
              "    </tr>\n",
              "    <tr>\n",
              "      <th>3</th>\n",
              "      <td>7.4</td>\n",
              "    </tr>\n",
              "    <tr>\n",
              "      <th>4</th>\n",
              "      <td>9.3</td>\n",
              "    </tr>\n",
              "  </tbody>\n",
              "</table>\n",
              "</div>"
            ],
            "text/plain": [
              "   nota\n",
              "0   8.1\n",
              "1   6.8\n",
              "2   7.0\n",
              "3   7.4\n",
              "4   9.3"
            ]
          },
          "execution_count": 59,
          "metadata": {},
          "output_type": "execute_result"
        }
      ],
      "source": [
        "b = nota.drop(columns=['inicio_estudo','tempo_estudo_dia'])\n",
        "b.head()"
      ]
    },
    {
      "cell_type": "code",
      "execution_count": 60,
      "metadata": {
        "colab": {
          "base_uri": "https://localhost:8080/"
        },
        "id": "26AsKU_nDQZB",
        "outputId": "e1c3e1d1-21b9-4286-f7e6-63e9168488fe"
      },
      "outputs": [
        {
          "data": {
            "text/plain": [
              "array([[8.1],\n",
              "       [6.8],\n",
              "       [7. ],\n",
              "       [7.4],\n",
              "       [9.3],\n",
              "       [7.5],\n",
              "       [7.6],\n",
              "       [8. ],\n",
              "       [7. ],\n",
              "       [7.3],\n",
              "       [8.6],\n",
              "       [8.3],\n",
              "       [7.9],\n",
              "       [6.4],\n",
              "       [7.8],\n",
              "       [9.4],\n",
              "       [8.8],\n",
              "       [6.9],\n",
              "       [7.7],\n",
              "       [8.2],\n",
              "       [8.6],\n",
              "       [8.1],\n",
              "       [7.2],\n",
              "       [8.5],\n",
              "       [6.1]])"
            ]
          },
          "execution_count": 60,
          "metadata": {},
          "output_type": "execute_result"
        }
      ],
      "source": [
        "b = b.values\n",
        "b"
      ]
    },
    {
      "cell_type": "markdown",
      "metadata": {
        "id": "bfAx-_ECgSl-"
      },
      "source": [
        "### **Estimativa por mínimos quadrados**"
      ]
    },
    {
      "cell_type": "markdown",
      "metadata": {
        "id": "nX-5HpcY4QSB"
      },
      "source": [
        "![image.png](data:image/png;base64,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)"
      ]
    },
    {
      "cell_type": "code",
      "execution_count": 61,
      "metadata": {
        "colab": {
          "base_uri": "https://localhost:8080/"
        },
        "id": "npRmhrU1_ZhX",
        "outputId": "944f599d-8b27-4231-c44e-3bfd494cd8c6"
      },
      "outputs": [
        {
          "data": {
            "text/plain": [
              "array([[  5,  13,  20,  28,  20,  24,  18,   8,   2,  12,  15,   9,   6,\n",
              "          4,   8,  12,  10,   3,  15,   9,  24,   5,   7,  12,   2],\n",
              "       [120,  90, 120,  60, 150, 150,  60, 120, 240,  90,  90, 120, 180,\n",
              "         90, 150, 120, 180,  90, 180,  90, 120, 150, 120, 180,  90]],\n",
              "      dtype=int64)"
            ]
          },
          "execution_count": 61,
          "metadata": {},
          "output_type": "execute_result"
        }
      ],
      "source": [
        "# Transposta da Matriz A\n",
        "At = np.array(A).T\n",
        "At"
      ]
    },
    {
      "cell_type": "code",
      "execution_count": 62,
      "metadata": {
        "colab": {
          "base_uri": "https://localhost:8080/"
        },
        "id": "yAog_LR54Cv3",
        "outputId": "0c8416e6-7b7a-488d-d16e-5eaad9f75ad2"
      },
      "outputs": [
        {
          "name": "stdout",
          "output_type": "stream",
          "text": [
            "[[  5 120]\n",
            " [ 13  90]\n",
            " [ 20 120]\n",
            " [ 28  60]\n",
            " [ 20 150]\n",
            " [ 24 150]\n",
            " [ 18  60]\n",
            " [  8 120]\n",
            " [  2 240]\n",
            " [ 12  90]\n",
            " [ 15  90]\n",
            " [  9 120]\n",
            " [  6 180]\n",
            " [  4  90]\n",
            " [  8 150]\n",
            " [ 12 120]\n",
            " [ 10 180]\n",
            " [  3  90]\n",
            " [ 15 180]\n",
            " [  9  90]\n",
            " [ 24 120]\n",
            " [  5 150]\n",
            " [  7 120]\n",
            " [ 12 180]\n",
            " [  2  90]]\n"
          ]
        }
      ],
      "source": [
        "print(A)"
      ]
    },
    {
      "cell_type": "code",
      "execution_count": 63,
      "metadata": {
        "colab": {
          "base_uri": "https://localhost:8080/"
        },
        "id": "lNA0Fzx9_lMg",
        "outputId": "d5334d14-41a6-48c6-8ddf-0d4c7a92efdd"
      },
      "outputs": [
        {
          "data": {
            "text/plain": [
              "array([[  4669,  34950],\n",
              "       [ 34950, 441900]], dtype=int64)"
            ]
          },
          "execution_count": 63,
          "metadata": {},
          "output_type": "execute_result"
        }
      ],
      "source": [
        "# Multiplicação da Transposta de A pela matriz A\n",
        "AtA =  np.dot(At,A) #Dot product of two arrays. Specifically,\n",
        "AtA"
      ]
    },
    {
      "cell_type": "code",
      "execution_count": 64,
      "metadata": {
        "colab": {
          "base_uri": "https://localhost:8080/"
        },
        "id": "83zK60NtAYtl",
        "outputId": "874c99ca-f86d-466a-c18c-6f0e7986301f"
      },
      "outputs": [
        {
          "data": {
            "text/plain": [
              "array([[ 5.24991072e-04, -4.15216971e-05],\n",
              "       [-4.15216971e-05,  5.54691857e-06]])"
            ]
          },
          "execution_count": 64,
          "metadata": {},
          "output_type": "execute_result"
        }
      ],
      "source": [
        "# Inversa da matriz calculada anteriormente\n",
        "inv = np.linalg.inv(AtA) #Compute the inverse of a matrix.\n",
        "inv"
      ]
    },
    {
      "cell_type": "code",
      "execution_count": 65,
      "metadata": {
        "colab": {
          "base_uri": "https://localhost:8080/"
        },
        "id": "Nyq09xjIAwTU",
        "outputId": "3140010e-639f-45cd-cae6-1ba026cc4191"
      },
      "outputs": [
        {
          "data": {
            "text/plain": [
              "array([[ 2305.9],\n",
              "       [24726. ]])"
            ]
          },
          "execution_count": 65,
          "metadata": {},
          "output_type": "execute_result"
        }
      ],
      "source": [
        "Atb = np.dot(At,b)\n",
        "Atb"
      ]
    },
    {
      "cell_type": "code",
      "execution_count": 66,
      "metadata": {
        "colab": {
          "base_uri": "https://localhost:8080/"
        },
        "id": "0LrhxTq3BNAc",
        "outputId": "85298741-0cd1-4ae7-f650-1885623a8e90"
      },
      "outputs": [
        {
          "data": {
            "text/plain": [
              "array([[0.18391143],\n",
              "       [0.04140823]])"
            ]
          },
          "execution_count": 66,
          "metadata": {},
          "output_type": "execute_result"
        }
      ],
      "source": [
        "x = np.dot(inv,Atb)\n",
        "x"
      ]
    },
    {
      "cell_type": "code",
      "execution_count": 67,
      "metadata": {
        "colab": {
          "base_uri": "https://localhost:8080/"
        },
        "id": "2jC3JVr5Lwhm",
        "outputId": "db4b3c1a-1d97-4c5d-e83c-6ec43df3c59a"
      },
      "outputs": [
        {
          "data": {
            "text/plain": [
              "array([[0.18391143],\n",
              "       [0.04140823]])"
            ]
          },
          "execution_count": 67,
          "metadata": {},
          "output_type": "execute_result"
        }
      ],
      "source": [
        "x =  np.dot(np.dot(np.linalg.inv(np.dot(At,A)),At),b)\n",
        "x"
      ]
    },
    {
      "cell_type": "markdown",
      "metadata": {
        "id": "oidEUywz5M3t"
      },
      "source": [
        "**nota = 0.1839.inicio_estudo + 0.0414.tempo_estudo_dia**"
      ]
    },
    {
      "cell_type": "code",
      "execution_count": 68,
      "metadata": {
        "colab": {
          "base_uri": "https://localhost:8080/",
          "height": 833
        },
        "id": "6FTxuaCB_Ilv",
        "outputId": "60cc6319-caaa-4082-aa7d-60957cad55fc"
      },
      "outputs": [
        {
          "data": {
            "text/html": [
              "<div>\n",
              "<style scoped>\n",
              "    .dataframe tbody tr th:only-of-type {\n",
              "        vertical-align: middle;\n",
              "    }\n",
              "\n",
              "    .dataframe tbody tr th {\n",
              "        vertical-align: top;\n",
              "    }\n",
              "\n",
              "    .dataframe thead th {\n",
              "        text-align: right;\n",
              "    }\n",
              "</style>\n",
              "<table border=\"1\" class=\"dataframe\">\n",
              "  <thead>\n",
              "    <tr style=\"text-align: right;\">\n",
              "      <th></th>\n",
              "      <th>inicio_estudo</th>\n",
              "      <th>tempo_estudo_dia</th>\n",
              "      <th>nota</th>\n",
              "    </tr>\n",
              "  </thead>\n",
              "  <tbody>\n",
              "    <tr>\n",
              "      <th>0</th>\n",
              "      <td>5</td>\n",
              "      <td>120</td>\n",
              "      <td>8.1</td>\n",
              "    </tr>\n",
              "    <tr>\n",
              "      <th>1</th>\n",
              "      <td>13</td>\n",
              "      <td>90</td>\n",
              "      <td>6.8</td>\n",
              "    </tr>\n",
              "    <tr>\n",
              "      <th>2</th>\n",
              "      <td>20</td>\n",
              "      <td>120</td>\n",
              "      <td>7.0</td>\n",
              "    </tr>\n",
              "    <tr>\n",
              "      <th>3</th>\n",
              "      <td>28</td>\n",
              "      <td>60</td>\n",
              "      <td>7.4</td>\n",
              "    </tr>\n",
              "    <tr>\n",
              "      <th>4</th>\n",
              "      <td>20</td>\n",
              "      <td>150</td>\n",
              "      <td>9.3</td>\n",
              "    </tr>\n",
              "    <tr>\n",
              "      <th>5</th>\n",
              "      <td>24</td>\n",
              "      <td>150</td>\n",
              "      <td>7.5</td>\n",
              "    </tr>\n",
              "    <tr>\n",
              "      <th>6</th>\n",
              "      <td>18</td>\n",
              "      <td>60</td>\n",
              "      <td>7.6</td>\n",
              "    </tr>\n",
              "    <tr>\n",
              "      <th>7</th>\n",
              "      <td>8</td>\n",
              "      <td>120</td>\n",
              "      <td>8.0</td>\n",
              "    </tr>\n",
              "    <tr>\n",
              "      <th>8</th>\n",
              "      <td>2</td>\n",
              "      <td>240</td>\n",
              "      <td>7.0</td>\n",
              "    </tr>\n",
              "    <tr>\n",
              "      <th>9</th>\n",
              "      <td>12</td>\n",
              "      <td>90</td>\n",
              "      <td>7.3</td>\n",
              "    </tr>\n",
              "    <tr>\n",
              "      <th>10</th>\n",
              "      <td>15</td>\n",
              "      <td>90</td>\n",
              "      <td>8.6</td>\n",
              "    </tr>\n",
              "    <tr>\n",
              "      <th>11</th>\n",
              "      <td>9</td>\n",
              "      <td>120</td>\n",
              "      <td>8.3</td>\n",
              "    </tr>\n",
              "    <tr>\n",
              "      <th>12</th>\n",
              "      <td>6</td>\n",
              "      <td>180</td>\n",
              "      <td>7.9</td>\n",
              "    </tr>\n",
              "    <tr>\n",
              "      <th>13</th>\n",
              "      <td>4</td>\n",
              "      <td>90</td>\n",
              "      <td>6.4</td>\n",
              "    </tr>\n",
              "    <tr>\n",
              "      <th>14</th>\n",
              "      <td>8</td>\n",
              "      <td>150</td>\n",
              "      <td>7.8</td>\n",
              "    </tr>\n",
              "    <tr>\n",
              "      <th>15</th>\n",
              "      <td>12</td>\n",
              "      <td>120</td>\n",
              "      <td>9.4</td>\n",
              "    </tr>\n",
              "    <tr>\n",
              "      <th>16</th>\n",
              "      <td>10</td>\n",
              "      <td>180</td>\n",
              "      <td>8.8</td>\n",
              "    </tr>\n",
              "    <tr>\n",
              "      <th>17</th>\n",
              "      <td>3</td>\n",
              "      <td>90</td>\n",
              "      <td>6.9</td>\n",
              "    </tr>\n",
              "    <tr>\n",
              "      <th>18</th>\n",
              "      <td>15</td>\n",
              "      <td>180</td>\n",
              "      <td>7.7</td>\n",
              "    </tr>\n",
              "    <tr>\n",
              "      <th>19</th>\n",
              "      <td>9</td>\n",
              "      <td>90</td>\n",
              "      <td>8.2</td>\n",
              "    </tr>\n",
              "    <tr>\n",
              "      <th>20</th>\n",
              "      <td>24</td>\n",
              "      <td>120</td>\n",
              "      <td>8.6</td>\n",
              "    </tr>\n",
              "    <tr>\n",
              "      <th>21</th>\n",
              "      <td>5</td>\n",
              "      <td>150</td>\n",
              "      <td>8.1</td>\n",
              "    </tr>\n",
              "    <tr>\n",
              "      <th>22</th>\n",
              "      <td>7</td>\n",
              "      <td>120</td>\n",
              "      <td>7.2</td>\n",
              "    </tr>\n",
              "    <tr>\n",
              "      <th>23</th>\n",
              "      <td>12</td>\n",
              "      <td>180</td>\n",
              "      <td>8.5</td>\n",
              "    </tr>\n",
              "    <tr>\n",
              "      <th>24</th>\n",
              "      <td>2</td>\n",
              "      <td>90</td>\n",
              "      <td>6.1</td>\n",
              "    </tr>\n",
              "  </tbody>\n",
              "</table>\n",
              "</div>"
            ],
            "text/plain": [
              "    inicio_estudo  tempo_estudo_dia  nota\n",
              "0               5               120   8.1\n",
              "1              13                90   6.8\n",
              "2              20               120   7.0\n",
              "3              28                60   7.4\n",
              "4              20               150   9.3\n",
              "5              24               150   7.5\n",
              "6              18                60   7.6\n",
              "7               8               120   8.0\n",
              "8               2               240   7.0\n",
              "9              12                90   7.3\n",
              "10             15                90   8.6\n",
              "11              9               120   8.3\n",
              "12              6               180   7.9\n",
              "13              4                90   6.4\n",
              "14              8               150   7.8\n",
              "15             12               120   9.4\n",
              "16             10               180   8.8\n",
              "17              3                90   6.9\n",
              "18             15               180   7.7\n",
              "19              9                90   8.2\n",
              "20             24               120   8.6\n",
              "21              5               150   8.1\n",
              "22              7               120   7.2\n",
              "23             12               180   8.5\n",
              "24              2                90   6.1"
            ]
          },
          "execution_count": 68,
          "metadata": {},
          "output_type": "execute_result"
        }
      ],
      "source": [
        "resultado = nota\n",
        "resultado"
      ]
    },
    {
      "cell_type": "code",
      "execution_count": 69,
      "metadata": {
        "colab": {
          "base_uri": "https://localhost:8080/",
          "height": 833
        },
        "id": "yjj-y7RPEAor",
        "outputId": "dc383381-c11f-4920-fcbb-e7f847327763"
      },
      "outputs": [
        {
          "data": {
            "text/html": [
              "<div>\n",
              "<style scoped>\n",
              "    .dataframe tbody tr th:only-of-type {\n",
              "        vertical-align: middle;\n",
              "    }\n",
              "\n",
              "    .dataframe tbody tr th {\n",
              "        vertical-align: top;\n",
              "    }\n",
              "\n",
              "    .dataframe thead th {\n",
              "        text-align: right;\n",
              "    }\n",
              "</style>\n",
              "<table border=\"1\" class=\"dataframe\">\n",
              "  <thead>\n",
              "    <tr style=\"text-align: right;\">\n",
              "      <th></th>\n",
              "      <th>inicio_estudo</th>\n",
              "      <th>tempo_estudo_dia</th>\n",
              "      <th>nota</th>\n",
              "      <th>previsao</th>\n",
              "    </tr>\n",
              "  </thead>\n",
              "  <tbody>\n",
              "    <tr>\n",
              "      <th>0</th>\n",
              "      <td>5</td>\n",
              "      <td>120</td>\n",
              "      <td>8.1</td>\n",
              "      <td>5.888544</td>\n",
              "    </tr>\n",
              "    <tr>\n",
              "      <th>1</th>\n",
              "      <td>13</td>\n",
              "      <td>90</td>\n",
              "      <td>6.8</td>\n",
              "      <td>6.117589</td>\n",
              "    </tr>\n",
              "    <tr>\n",
              "      <th>2</th>\n",
              "      <td>20</td>\n",
              "      <td>120</td>\n",
              "      <td>7.0</td>\n",
              "      <td>8.647216</td>\n",
              "    </tr>\n",
              "    <tr>\n",
              "      <th>3</th>\n",
              "      <td>28</td>\n",
              "      <td>60</td>\n",
              "      <td>7.4</td>\n",
              "      <td>7.634014</td>\n",
              "    </tr>\n",
              "    <tr>\n",
              "      <th>4</th>\n",
              "      <td>20</td>\n",
              "      <td>150</td>\n",
              "      <td>9.3</td>\n",
              "      <td>9.889463</td>\n",
              "    </tr>\n",
              "    <tr>\n",
              "      <th>5</th>\n",
              "      <td>24</td>\n",
              "      <td>150</td>\n",
              "      <td>7.5</td>\n",
              "      <td>10.625108</td>\n",
              "    </tr>\n",
              "    <tr>\n",
              "      <th>6</th>\n",
              "      <td>18</td>\n",
              "      <td>60</td>\n",
              "      <td>7.6</td>\n",
              "      <td>5.794899</td>\n",
              "    </tr>\n",
              "    <tr>\n",
              "      <th>7</th>\n",
              "      <td>8</td>\n",
              "      <td>120</td>\n",
              "      <td>8.0</td>\n",
              "      <td>6.440279</td>\n",
              "    </tr>\n",
              "    <tr>\n",
              "      <th>8</th>\n",
              "      <td>2</td>\n",
              "      <td>240</td>\n",
              "      <td>7.0</td>\n",
              "      <td>10.305797</td>\n",
              "    </tr>\n",
              "    <tr>\n",
              "      <th>9</th>\n",
              "      <td>12</td>\n",
              "      <td>90</td>\n",
              "      <td>7.3</td>\n",
              "      <td>5.933678</td>\n",
              "    </tr>\n",
              "    <tr>\n",
              "      <th>10</th>\n",
              "      <td>15</td>\n",
              "      <td>90</td>\n",
              "      <td>8.6</td>\n",
              "      <td>6.485412</td>\n",
              "    </tr>\n",
              "    <tr>\n",
              "      <th>11</th>\n",
              "      <td>9</td>\n",
              "      <td>120</td>\n",
              "      <td>8.3</td>\n",
              "      <td>6.624190</td>\n",
              "    </tr>\n",
              "    <tr>\n",
              "      <th>12</th>\n",
              "      <td>6</td>\n",
              "      <td>180</td>\n",
              "      <td>7.9</td>\n",
              "      <td>8.556949</td>\n",
              "    </tr>\n",
              "    <tr>\n",
              "      <th>13</th>\n",
              "      <td>4</td>\n",
              "      <td>90</td>\n",
              "      <td>6.4</td>\n",
              "      <td>4.462386</td>\n",
              "    </tr>\n",
              "    <tr>\n",
              "      <th>14</th>\n",
              "      <td>8</td>\n",
              "      <td>150</td>\n",
              "      <td>7.8</td>\n",
              "      <td>7.682525</td>\n",
              "    </tr>\n",
              "    <tr>\n",
              "      <th>15</th>\n",
              "      <td>12</td>\n",
              "      <td>120</td>\n",
              "      <td>9.4</td>\n",
              "      <td>7.175924</td>\n",
              "    </tr>\n",
              "    <tr>\n",
              "      <th>16</th>\n",
              "      <td>10</td>\n",
              "      <td>180</td>\n",
              "      <td>8.8</td>\n",
              "      <td>9.292595</td>\n",
              "    </tr>\n",
              "    <tr>\n",
              "      <th>17</th>\n",
              "      <td>3</td>\n",
              "      <td>90</td>\n",
              "      <td>6.9</td>\n",
              "      <td>4.278475</td>\n",
              "    </tr>\n",
              "    <tr>\n",
              "      <th>18</th>\n",
              "      <td>15</td>\n",
              "      <td>180</td>\n",
              "      <td>7.7</td>\n",
              "      <td>10.212152</td>\n",
              "    </tr>\n",
              "    <tr>\n",
              "      <th>19</th>\n",
              "      <td>9</td>\n",
              "      <td>90</td>\n",
              "      <td>8.2</td>\n",
              "      <td>5.381943</td>\n",
              "    </tr>\n",
              "    <tr>\n",
              "      <th>20</th>\n",
              "      <td>24</td>\n",
              "      <td>120</td>\n",
              "      <td>8.6</td>\n",
              "      <td>9.382862</td>\n",
              "    </tr>\n",
              "    <tr>\n",
              "      <th>21</th>\n",
              "      <td>5</td>\n",
              "      <td>150</td>\n",
              "      <td>8.1</td>\n",
              "      <td>7.130791</td>\n",
              "    </tr>\n",
              "    <tr>\n",
              "      <th>22</th>\n",
              "      <td>7</td>\n",
              "      <td>120</td>\n",
              "      <td>7.2</td>\n",
              "      <td>6.256367</td>\n",
              "    </tr>\n",
              "    <tr>\n",
              "      <th>23</th>\n",
              "      <td>12</td>\n",
              "      <td>180</td>\n",
              "      <td>8.5</td>\n",
              "      <td>9.660418</td>\n",
              "    </tr>\n",
              "    <tr>\n",
              "      <th>24</th>\n",
              "      <td>2</td>\n",
              "      <td>90</td>\n",
              "      <td>6.1</td>\n",
              "      <td>4.094563</td>\n",
              "    </tr>\n",
              "  </tbody>\n",
              "</table>\n",
              "</div>"
            ],
            "text/plain": [
              "    inicio_estudo  tempo_estudo_dia  nota   previsao\n",
              "0               5               120   8.1   5.888544\n",
              "1              13                90   6.8   6.117589\n",
              "2              20               120   7.0   8.647216\n",
              "3              28                60   7.4   7.634014\n",
              "4              20               150   9.3   9.889463\n",
              "5              24               150   7.5  10.625108\n",
              "6              18                60   7.6   5.794899\n",
              "7               8               120   8.0   6.440279\n",
              "8               2               240   7.0  10.305797\n",
              "9              12                90   7.3   5.933678\n",
              "10             15                90   8.6   6.485412\n",
              "11              9               120   8.3   6.624190\n",
              "12              6               180   7.9   8.556949\n",
              "13              4                90   6.4   4.462386\n",
              "14              8               150   7.8   7.682525\n",
              "15             12               120   9.4   7.175924\n",
              "16             10               180   8.8   9.292595\n",
              "17              3                90   6.9   4.278475\n",
              "18             15               180   7.7  10.212152\n",
              "19              9                90   8.2   5.381943\n",
              "20             24               120   8.6   9.382862\n",
              "21              5               150   8.1   7.130791\n",
              "22              7               120   7.2   6.256367\n",
              "23             12               180   8.5   9.660418\n",
              "24              2                90   6.1   4.094563"
            ]
          },
          "execution_count": 69,
          "metadata": {},
          "output_type": "execute_result"
        }
      ],
      "source": [
        "resultado['previsao'] = resultado['inicio_estudo']*x[0]+resultado['tempo_estudo_dia']*x[1]\n",
        "resultado"
      ]
    },
    {
      "cell_type": "code",
      "execution_count": 70,
      "metadata": {
        "colab": {
          "base_uri": "https://localhost:8080/"
        },
        "id": "PTaaQZfaMFdr",
        "outputId": "c79a47a3-e628-4029-a647-243549bacde9"
      },
      "outputs": [
        {
          "data": {
            "text/plain": [
              "1.582360299982678"
            ]
          },
          "execution_count": 70,
          "metadata": {},
          "output_type": "execute_result"
        }
      ],
      "source": [
        "# Erro médio absoluto (MAE)\n",
        "from sklearn.metrics import mean_absolute_error\n",
        "mean_absolute_error(resultado.nota, resultado.previsao)"
      ]
    },
    {
      "cell_type": "code",
      "execution_count": 71,
      "metadata": {
        "colab": {
          "base_uri": "https://localhost:8080/",
          "height": 833
        },
        "id": "V_RvcQ6XM6x7",
        "outputId": "50b213c0-3c93-4b6d-9bde-c92c6ea3c586"
      },
      "outputs": [
        {
          "data": {
            "text/html": [
              "<div>\n",
              "<style scoped>\n",
              "    .dataframe tbody tr th:only-of-type {\n",
              "        vertical-align: middle;\n",
              "    }\n",
              "\n",
              "    .dataframe tbody tr th {\n",
              "        vertical-align: top;\n",
              "    }\n",
              "\n",
              "    .dataframe thead th {\n",
              "        text-align: right;\n",
              "    }\n",
              "</style>\n",
              "<table border=\"1\" class=\"dataframe\">\n",
              "  <thead>\n",
              "    <tr style=\"text-align: right;\">\n",
              "      <th></th>\n",
              "      <th>inicio_estudo</th>\n",
              "      <th>tempo_estudo_dia</th>\n",
              "      <th>nota</th>\n",
              "      <th>previsao</th>\n",
              "      <th>erro_abs</th>\n",
              "    </tr>\n",
              "  </thead>\n",
              "  <tbody>\n",
              "    <tr>\n",
              "      <th>0</th>\n",
              "      <td>5</td>\n",
              "      <td>120</td>\n",
              "      <td>8.1</td>\n",
              "      <td>5.888544</td>\n",
              "      <td>2.211456</td>\n",
              "    </tr>\n",
              "    <tr>\n",
              "      <th>1</th>\n",
              "      <td>13</td>\n",
              "      <td>90</td>\n",
              "      <td>6.8</td>\n",
              "      <td>6.117589</td>\n",
              "      <td>0.682411</td>\n",
              "    </tr>\n",
              "    <tr>\n",
              "      <th>2</th>\n",
              "      <td>20</td>\n",
              "      <td>120</td>\n",
              "      <td>7.0</td>\n",
              "      <td>8.647216</td>\n",
              "      <td>1.647216</td>\n",
              "    </tr>\n",
              "    <tr>\n",
              "      <th>3</th>\n",
              "      <td>28</td>\n",
              "      <td>60</td>\n",
              "      <td>7.4</td>\n",
              "      <td>7.634014</td>\n",
              "      <td>0.234014</td>\n",
              "    </tr>\n",
              "    <tr>\n",
              "      <th>4</th>\n",
              "      <td>20</td>\n",
              "      <td>150</td>\n",
              "      <td>9.3</td>\n",
              "      <td>9.889463</td>\n",
              "      <td>0.589463</td>\n",
              "    </tr>\n",
              "    <tr>\n",
              "      <th>5</th>\n",
              "      <td>24</td>\n",
              "      <td>150</td>\n",
              "      <td>7.5</td>\n",
              "      <td>10.625108</td>\n",
              "      <td>3.125108</td>\n",
              "    </tr>\n",
              "    <tr>\n",
              "      <th>6</th>\n",
              "      <td>18</td>\n",
              "      <td>60</td>\n",
              "      <td>7.6</td>\n",
              "      <td>5.794899</td>\n",
              "      <td>1.805101</td>\n",
              "    </tr>\n",
              "    <tr>\n",
              "      <th>7</th>\n",
              "      <td>8</td>\n",
              "      <td>120</td>\n",
              "      <td>8.0</td>\n",
              "      <td>6.440279</td>\n",
              "      <td>1.559721</td>\n",
              "    </tr>\n",
              "    <tr>\n",
              "      <th>8</th>\n",
              "      <td>2</td>\n",
              "      <td>240</td>\n",
              "      <td>7.0</td>\n",
              "      <td>10.305797</td>\n",
              "      <td>3.305797</td>\n",
              "    </tr>\n",
              "    <tr>\n",
              "      <th>9</th>\n",
              "      <td>12</td>\n",
              "      <td>90</td>\n",
              "      <td>7.3</td>\n",
              "      <td>5.933678</td>\n",
              "      <td>1.366322</td>\n",
              "    </tr>\n",
              "    <tr>\n",
              "      <th>10</th>\n",
              "      <td>15</td>\n",
              "      <td>90</td>\n",
              "      <td>8.6</td>\n",
              "      <td>6.485412</td>\n",
              "      <td>2.114588</td>\n",
              "    </tr>\n",
              "    <tr>\n",
              "      <th>11</th>\n",
              "      <td>9</td>\n",
              "      <td>120</td>\n",
              "      <td>8.3</td>\n",
              "      <td>6.624190</td>\n",
              "      <td>1.675810</td>\n",
              "    </tr>\n",
              "    <tr>\n",
              "      <th>12</th>\n",
              "      <td>6</td>\n",
              "      <td>180</td>\n",
              "      <td>7.9</td>\n",
              "      <td>8.556949</td>\n",
              "      <td>0.656949</td>\n",
              "    </tr>\n",
              "    <tr>\n",
              "      <th>13</th>\n",
              "      <td>4</td>\n",
              "      <td>90</td>\n",
              "      <td>6.4</td>\n",
              "      <td>4.462386</td>\n",
              "      <td>1.937614</td>\n",
              "    </tr>\n",
              "    <tr>\n",
              "      <th>14</th>\n",
              "      <td>8</td>\n",
              "      <td>150</td>\n",
              "      <td>7.8</td>\n",
              "      <td>7.682525</td>\n",
              "      <td>0.117475</td>\n",
              "    </tr>\n",
              "    <tr>\n",
              "      <th>15</th>\n",
              "      <td>12</td>\n",
              "      <td>120</td>\n",
              "      <td>9.4</td>\n",
              "      <td>7.175924</td>\n",
              "      <td>2.224076</td>\n",
              "    </tr>\n",
              "    <tr>\n",
              "      <th>16</th>\n",
              "      <td>10</td>\n",
              "      <td>180</td>\n",
              "      <td>8.8</td>\n",
              "      <td>9.292595</td>\n",
              "      <td>0.492595</td>\n",
              "    </tr>\n",
              "    <tr>\n",
              "      <th>17</th>\n",
              "      <td>3</td>\n",
              "      <td>90</td>\n",
              "      <td>6.9</td>\n",
              "      <td>4.278475</td>\n",
              "      <td>2.621525</td>\n",
              "    </tr>\n",
              "    <tr>\n",
              "      <th>18</th>\n",
              "      <td>15</td>\n",
              "      <td>180</td>\n",
              "      <td>7.7</td>\n",
              "      <td>10.212152</td>\n",
              "      <td>2.512152</td>\n",
              "    </tr>\n",
              "    <tr>\n",
              "      <th>19</th>\n",
              "      <td>9</td>\n",
              "      <td>90</td>\n",
              "      <td>8.2</td>\n",
              "      <td>5.381943</td>\n",
              "      <td>2.818057</td>\n",
              "    </tr>\n",
              "    <tr>\n",
              "      <th>20</th>\n",
              "      <td>24</td>\n",
              "      <td>120</td>\n",
              "      <td>8.6</td>\n",
              "      <td>9.382862</td>\n",
              "      <td>0.782862</td>\n",
              "    </tr>\n",
              "    <tr>\n",
              "      <th>21</th>\n",
              "      <td>5</td>\n",
              "      <td>150</td>\n",
              "      <td>8.1</td>\n",
              "      <td>7.130791</td>\n",
              "      <td>0.969209</td>\n",
              "    </tr>\n",
              "    <tr>\n",
              "      <th>22</th>\n",
              "      <td>7</td>\n",
              "      <td>120</td>\n",
              "      <td>7.2</td>\n",
              "      <td>6.256367</td>\n",
              "      <td>0.943633</td>\n",
              "    </tr>\n",
              "    <tr>\n",
              "      <th>23</th>\n",
              "      <td>12</td>\n",
              "      <td>180</td>\n",
              "      <td>8.5</td>\n",
              "      <td>9.660418</td>\n",
              "      <td>1.160418</td>\n",
              "    </tr>\n",
              "    <tr>\n",
              "      <th>24</th>\n",
              "      <td>2</td>\n",
              "      <td>90</td>\n",
              "      <td>6.1</td>\n",
              "      <td>4.094563</td>\n",
              "      <td>2.005437</td>\n",
              "    </tr>\n",
              "  </tbody>\n",
              "</table>\n",
              "</div>"
            ],
            "text/plain": [
              "    inicio_estudo  tempo_estudo_dia  nota   previsao  erro_abs\n",
              "0               5               120   8.1   5.888544  2.211456\n",
              "1              13                90   6.8   6.117589  0.682411\n",
              "2              20               120   7.0   8.647216  1.647216\n",
              "3              28                60   7.4   7.634014  0.234014\n",
              "4              20               150   9.3   9.889463  0.589463\n",
              "5              24               150   7.5  10.625108  3.125108\n",
              "6              18                60   7.6   5.794899  1.805101\n",
              "7               8               120   8.0   6.440279  1.559721\n",
              "8               2               240   7.0  10.305797  3.305797\n",
              "9              12                90   7.3   5.933678  1.366322\n",
              "10             15                90   8.6   6.485412  2.114588\n",
              "11              9               120   8.3   6.624190  1.675810\n",
              "12              6               180   7.9   8.556949  0.656949\n",
              "13              4                90   6.4   4.462386  1.937614\n",
              "14              8               150   7.8   7.682525  0.117475\n",
              "15             12               120   9.4   7.175924  2.224076\n",
              "16             10               180   8.8   9.292595  0.492595\n",
              "17              3                90   6.9   4.278475  2.621525\n",
              "18             15               180   7.7  10.212152  2.512152\n",
              "19              9                90   8.2   5.381943  2.818057\n",
              "20             24               120   8.6   9.382862  0.782862\n",
              "21              5               150   8.1   7.130791  0.969209\n",
              "22              7               120   7.2   6.256367  0.943633\n",
              "23             12               180   8.5   9.660418  1.160418\n",
              "24              2                90   6.1   4.094563  2.005437"
            ]
          },
          "execution_count": 71,
          "metadata": {},
          "output_type": "execute_result"
        }
      ],
      "source": [
        "resultado['erro_abs'] = abs (resultado.nota - resultado.previsao)\n",
        "resultado"
      ]
    },
    {
      "cell_type": "markdown",
      "metadata": {
        "id": "BJpyO-3Y-JL0"
      },
      "source": [
        "# **Criação de um modelo de regressão linear múltipla**"
      ]
    },
    {
      "cell_type": "markdown",
      "metadata": {
        "id": "MpZbYq2rEqaP"
      },
      "source": [
        "![image.png](data:image/png;base64,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)"
      ]
    },
    {
      "cell_type": "code",
      "execution_count": 72,
      "metadata": {
        "colab": {
          "base_uri": "https://localhost:8080/",
          "height": 206
        },
        "id": "X7rKcdDZt3t4",
        "outputId": "cd036b33-a1a4-4f09-95a3-098730ed0ee2"
      },
      "outputs": [
        {
          "data": {
            "text/html": [
              "<div>\n",
              "<style scoped>\n",
              "    .dataframe tbody tr th:only-of-type {\n",
              "        vertical-align: middle;\n",
              "    }\n",
              "\n",
              "    .dataframe tbody tr th {\n",
              "        vertical-align: top;\n",
              "    }\n",
              "\n",
              "    .dataframe thead th {\n",
              "        text-align: right;\n",
              "    }\n",
              "</style>\n",
              "<table border=\"1\" class=\"dataframe\">\n",
              "  <thead>\n",
              "    <tr style=\"text-align: right;\">\n",
              "      <th></th>\n",
              "      <th>inicio_estudo</th>\n",
              "      <th>tempo_estudo_dia</th>\n",
              "      <th>nota</th>\n",
              "      <th>previsao</th>\n",
              "      <th>erro_abs</th>\n",
              "    </tr>\n",
              "  </thead>\n",
              "  <tbody>\n",
              "    <tr>\n",
              "      <th>0</th>\n",
              "      <td>5</td>\n",
              "      <td>120</td>\n",
              "      <td>8.1</td>\n",
              "      <td>5.888544</td>\n",
              "      <td>2.211456</td>\n",
              "    </tr>\n",
              "    <tr>\n",
              "      <th>1</th>\n",
              "      <td>13</td>\n",
              "      <td>90</td>\n",
              "      <td>6.8</td>\n",
              "      <td>6.117589</td>\n",
              "      <td>0.682411</td>\n",
              "    </tr>\n",
              "    <tr>\n",
              "      <th>2</th>\n",
              "      <td>20</td>\n",
              "      <td>120</td>\n",
              "      <td>7.0</td>\n",
              "      <td>8.647216</td>\n",
              "      <td>1.647216</td>\n",
              "    </tr>\n",
              "    <tr>\n",
              "      <th>3</th>\n",
              "      <td>28</td>\n",
              "      <td>60</td>\n",
              "      <td>7.4</td>\n",
              "      <td>7.634014</td>\n",
              "      <td>0.234014</td>\n",
              "    </tr>\n",
              "    <tr>\n",
              "      <th>4</th>\n",
              "      <td>20</td>\n",
              "      <td>150</td>\n",
              "      <td>9.3</td>\n",
              "      <td>9.889463</td>\n",
              "      <td>0.589463</td>\n",
              "    </tr>\n",
              "  </tbody>\n",
              "</table>\n",
              "</div>"
            ],
            "text/plain": [
              "   inicio_estudo  tempo_estudo_dia  nota  previsao  erro_abs\n",
              "0              5               120   8.1  5.888544  2.211456\n",
              "1             13                90   6.8  6.117589  0.682411\n",
              "2             20               120   7.0  8.647216  1.647216\n",
              "3             28                60   7.4  7.634014  0.234014\n",
              "4             20               150   9.3  9.889463  0.589463"
            ]
          },
          "execution_count": 72,
          "metadata": {},
          "output_type": "execute_result"
        }
      ],
      "source": [
        "resultado.head()"
      ]
    },
    {
      "cell_type": "code",
      "execution_count": 73,
      "metadata": {
        "colab": {
          "base_uri": "https://localhost:8080/",
          "height": 206
        },
        "id": "Wzm7XJnYGf-q",
        "outputId": "8a04e9ad-a07e-4dad-a1a3-3ff748f78d33"
      },
      "outputs": [
        {
          "data": {
            "text/html": [
              "<div>\n",
              "<style scoped>\n",
              "    .dataframe tbody tr th:only-of-type {\n",
              "        vertical-align: middle;\n",
              "    }\n",
              "\n",
              "    .dataframe tbody tr th {\n",
              "        vertical-align: top;\n",
              "    }\n",
              "\n",
              "    .dataframe thead th {\n",
              "        text-align: right;\n",
              "    }\n",
              "</style>\n",
              "<table border=\"1\" class=\"dataframe\">\n",
              "  <thead>\n",
              "    <tr style=\"text-align: right;\">\n",
              "      <th></th>\n",
              "      <th>inicio_estudo</th>\n",
              "      <th>tempo_estudo_dia</th>\n",
              "    </tr>\n",
              "  </thead>\n",
              "  <tbody>\n",
              "    <tr>\n",
              "      <th>0</th>\n",
              "      <td>5</td>\n",
              "      <td>120</td>\n",
              "    </tr>\n",
              "    <tr>\n",
              "      <th>1</th>\n",
              "      <td>13</td>\n",
              "      <td>90</td>\n",
              "    </tr>\n",
              "    <tr>\n",
              "      <th>2</th>\n",
              "      <td>20</td>\n",
              "      <td>120</td>\n",
              "    </tr>\n",
              "    <tr>\n",
              "      <th>3</th>\n",
              "      <td>28</td>\n",
              "      <td>60</td>\n",
              "    </tr>\n",
              "    <tr>\n",
              "      <th>4</th>\n",
              "      <td>20</td>\n",
              "      <td>150</td>\n",
              "    </tr>\n",
              "  </tbody>\n",
              "</table>\n",
              "</div>"
            ],
            "text/plain": [
              "   inicio_estudo  tempo_estudo_dia\n",
              "0              5               120\n",
              "1             13                90\n",
              "2             20               120\n",
              "3             28                60\n",
              "4             20               150"
            ]
          },
          "execution_count": 73,
          "metadata": {},
          "output_type": "execute_result"
        }
      ],
      "source": [
        "B = resultado.drop(columns=['nota','previsao','erro_abs'])\n",
        "B.head()"
      ]
    },
    {
      "cell_type": "code",
      "execution_count": 74,
      "metadata": {
        "colab": {
          "base_uri": "https://localhost:8080/",
          "height": 206
        },
        "id": "aubVgeNvH6rf",
        "outputId": "63d11b8e-1f07-4d3c-d182-cde12f92be90"
      },
      "outputs": [
        {
          "data": {
            "text/html": [
              "<div>\n",
              "<style scoped>\n",
              "    .dataframe tbody tr th:only-of-type {\n",
              "        vertical-align: middle;\n",
              "    }\n",
              "\n",
              "    .dataframe tbody tr th {\n",
              "        vertical-align: top;\n",
              "    }\n",
              "\n",
              "    .dataframe thead th {\n",
              "        text-align: right;\n",
              "    }\n",
              "</style>\n",
              "<table border=\"1\" class=\"dataframe\">\n",
              "  <thead>\n",
              "    <tr style=\"text-align: right;\">\n",
              "      <th></th>\n",
              "      <th>inicio_estudo</th>\n",
              "      <th>tempo_estudo_dia</th>\n",
              "      <th>unidade</th>\n",
              "    </tr>\n",
              "  </thead>\n",
              "  <tbody>\n",
              "    <tr>\n",
              "      <th>0</th>\n",
              "      <td>5</td>\n",
              "      <td>120</td>\n",
              "      <td>1</td>\n",
              "    </tr>\n",
              "    <tr>\n",
              "      <th>1</th>\n",
              "      <td>13</td>\n",
              "      <td>90</td>\n",
              "      <td>1</td>\n",
              "    </tr>\n",
              "    <tr>\n",
              "      <th>2</th>\n",
              "      <td>20</td>\n",
              "      <td>120</td>\n",
              "      <td>1</td>\n",
              "    </tr>\n",
              "    <tr>\n",
              "      <th>3</th>\n",
              "      <td>28</td>\n",
              "      <td>60</td>\n",
              "      <td>1</td>\n",
              "    </tr>\n",
              "    <tr>\n",
              "      <th>4</th>\n",
              "      <td>20</td>\n",
              "      <td>150</td>\n",
              "      <td>1</td>\n",
              "    </tr>\n",
              "  </tbody>\n",
              "</table>\n",
              "</div>"
            ],
            "text/plain": [
              "   inicio_estudo  tempo_estudo_dia  unidade\n",
              "0              5               120        1\n",
              "1             13                90        1\n",
              "2             20               120        1\n",
              "3             28                60        1\n",
              "4             20               150        1"
            ]
          },
          "execution_count": 74,
          "metadata": {},
          "output_type": "execute_result"
        }
      ],
      "source": [
        "B = B.assign(unidade=1)\n",
        "B.head()"
      ]
    },
    {
      "cell_type": "code",
      "execution_count": 75,
      "metadata": {
        "colab": {
          "base_uri": "https://localhost:8080/",
          "height": 206
        },
        "id": "G04pxaqQI2Ec",
        "outputId": "541fc1f1-17fd-4c1a-98e2-92a8da1c678a"
      },
      "outputs": [
        {
          "data": {
            "text/html": [
              "<div>\n",
              "<style scoped>\n",
              "    .dataframe tbody tr th:only-of-type {\n",
              "        vertical-align: middle;\n",
              "    }\n",
              "\n",
              "    .dataframe tbody tr th {\n",
              "        vertical-align: top;\n",
              "    }\n",
              "\n",
              "    .dataframe thead th {\n",
              "        text-align: right;\n",
              "    }\n",
              "</style>\n",
              "<table border=\"1\" class=\"dataframe\">\n",
              "  <thead>\n",
              "    <tr style=\"text-align: right;\">\n",
              "      <th></th>\n",
              "      <th>unidade</th>\n",
              "      <th>inicio_estudo</th>\n",
              "      <th>tempo_estudo_dia</th>\n",
              "    </tr>\n",
              "  </thead>\n",
              "  <tbody>\n",
              "    <tr>\n",
              "      <th>0</th>\n",
              "      <td>1</td>\n",
              "      <td>5</td>\n",
              "      <td>120</td>\n",
              "    </tr>\n",
              "    <tr>\n",
              "      <th>1</th>\n",
              "      <td>1</td>\n",
              "      <td>13</td>\n",
              "      <td>90</td>\n",
              "    </tr>\n",
              "    <tr>\n",
              "      <th>2</th>\n",
              "      <td>1</td>\n",
              "      <td>20</td>\n",
              "      <td>120</td>\n",
              "    </tr>\n",
              "    <tr>\n",
              "      <th>3</th>\n",
              "      <td>1</td>\n",
              "      <td>28</td>\n",
              "      <td>60</td>\n",
              "    </tr>\n",
              "    <tr>\n",
              "      <th>4</th>\n",
              "      <td>1</td>\n",
              "      <td>20</td>\n",
              "      <td>150</td>\n",
              "    </tr>\n",
              "  </tbody>\n",
              "</table>\n",
              "</div>"
            ],
            "text/plain": [
              "   unidade  inicio_estudo  tempo_estudo_dia\n",
              "0        1              5               120\n",
              "1        1             13                90\n",
              "2        1             20               120\n",
              "3        1             28                60\n",
              "4        1             20               150"
            ]
          },
          "execution_count": 75,
          "metadata": {},
          "output_type": "execute_result"
        }
      ],
      "source": [
        "B = B[['unidade', 'inicio_estudo', 'tempo_estudo_dia']]\n",
        "B.head()"
      ]
    },
    {
      "cell_type": "code",
      "execution_count": 76,
      "metadata": {
        "colab": {
          "base_uri": "https://localhost:8080/"
        },
        "id": "XLK1Fj9tJY-r",
        "outputId": "93f31ca6-1733-4355-eedd-60dbeaac8160"
      },
      "outputs": [
        {
          "data": {
            "text/plain": [
              "array([[  1,   1,   1,   1,   1,   1,   1,   1,   1,   1,   1,   1,   1,\n",
              "          1,   1,   1,   1,   1,   1,   1,   1,   1,   1,   1,   1],\n",
              "       [  5,  13,  20,  28,  20,  24,  18,   8,   2,  12,  15,   9,   6,\n",
              "          4,   8,  12,  10,   3,  15,   9,  24,   5,   7,  12,   2],\n",
              "       [120,  90, 120,  60, 150, 150,  60, 120, 240,  90,  90, 120, 180,\n",
              "         90, 150, 120, 180,  90, 180,  90, 120, 150, 120, 180,  90]],\n",
              "      dtype=int64)"
            ]
          },
          "execution_count": 76,
          "metadata": {},
          "output_type": "execute_result"
        }
      ],
      "source": [
        "Bt = np.array(B).T\n",
        "Bt"
      ]
    },
    {
      "cell_type": "code",
      "execution_count": 77,
      "metadata": {
        "colab": {
          "base_uri": "https://localhost:8080/"
        },
        "id": "VcEpJYeOJnWS",
        "outputId": "4a0053d5-75a2-4039-f691-3e0804deed73"
      },
      "outputs": [
        {
          "data": {
            "text/plain": [
              "array([[6.48712882e+00],\n",
              "       [4.13304622e-02],\n",
              "       [6.44273496e-03]])"
            ]
          },
          "execution_count": 77,
          "metadata": {},
          "output_type": "execute_result"
        }
      ],
      "source": [
        "x2 =  np.dot(np.dot(np.linalg.inv(np.dot(Bt,B)),Bt),b)\n",
        "x2"
      ]
    },
    {
      "cell_type": "markdown",
      "metadata": {
        "id": "SPo3fYjgB_Id"
      },
      "source": [
        "**nota = 6.4871 + 0.0413.inicio_estudo + 0.00644.tempo_estudo_dia**"
      ]
    },
    {
      "cell_type": "code",
      "execution_count": 78,
      "metadata": {
        "colab": {
          "base_uri": "https://localhost:8080/",
          "height": 833
        },
        "id": "Io8vEa5MK79A",
        "outputId": "89bba341-c158-484f-ff2c-b3184fc91301"
      },
      "outputs": [
        {
          "data": {
            "text/html": [
              "<div>\n",
              "<style scoped>\n",
              "    .dataframe tbody tr th:only-of-type {\n",
              "        vertical-align: middle;\n",
              "    }\n",
              "\n",
              "    .dataframe tbody tr th {\n",
              "        vertical-align: top;\n",
              "    }\n",
              "\n",
              "    .dataframe thead th {\n",
              "        text-align: right;\n",
              "    }\n",
              "</style>\n",
              "<table border=\"1\" class=\"dataframe\">\n",
              "  <thead>\n",
              "    <tr style=\"text-align: right;\">\n",
              "      <th></th>\n",
              "      <th>inicio_estudo</th>\n",
              "      <th>tempo_estudo_dia</th>\n",
              "      <th>nota</th>\n",
              "      <th>previsao</th>\n",
              "      <th>erro_abs</th>\n",
              "      <th>previsao2</th>\n",
              "    </tr>\n",
              "  </thead>\n",
              "  <tbody>\n",
              "    <tr>\n",
              "      <th>0</th>\n",
              "      <td>5</td>\n",
              "      <td>120</td>\n",
              "      <td>8.1</td>\n",
              "      <td>5.888544</td>\n",
              "      <td>2.211456</td>\n",
              "      <td>7.466909</td>\n",
              "    </tr>\n",
              "    <tr>\n",
              "      <th>1</th>\n",
              "      <td>13</td>\n",
              "      <td>90</td>\n",
              "      <td>6.8</td>\n",
              "      <td>6.117589</td>\n",
              "      <td>0.682411</td>\n",
              "      <td>7.604271</td>\n",
              "    </tr>\n",
              "    <tr>\n",
              "      <th>2</th>\n",
              "      <td>20</td>\n",
              "      <td>120</td>\n",
              "      <td>7.0</td>\n",
              "      <td>8.647216</td>\n",
              "      <td>1.647216</td>\n",
              "      <td>8.086866</td>\n",
              "    </tr>\n",
              "    <tr>\n",
              "      <th>3</th>\n",
              "      <td>28</td>\n",
              "      <td>60</td>\n",
              "      <td>7.4</td>\n",
              "      <td>7.634014</td>\n",
              "      <td>0.234014</td>\n",
              "      <td>8.030946</td>\n",
              "    </tr>\n",
              "    <tr>\n",
              "      <th>4</th>\n",
              "      <td>20</td>\n",
              "      <td>150</td>\n",
              "      <td>9.3</td>\n",
              "      <td>9.889463</td>\n",
              "      <td>0.589463</td>\n",
              "      <td>8.280148</td>\n",
              "    </tr>\n",
              "    <tr>\n",
              "      <th>5</th>\n",
              "      <td>24</td>\n",
              "      <td>150</td>\n",
              "      <td>7.5</td>\n",
              "      <td>10.625108</td>\n",
              "      <td>3.125108</td>\n",
              "      <td>8.445470</td>\n",
              "    </tr>\n",
              "    <tr>\n",
              "      <th>6</th>\n",
              "      <td>18</td>\n",
              "      <td>60</td>\n",
              "      <td>7.6</td>\n",
              "      <td>5.794899</td>\n",
              "      <td>1.805101</td>\n",
              "      <td>7.617641</td>\n",
              "    </tr>\n",
              "    <tr>\n",
              "      <th>7</th>\n",
              "      <td>8</td>\n",
              "      <td>120</td>\n",
              "      <td>8.0</td>\n",
              "      <td>6.440279</td>\n",
              "      <td>1.559721</td>\n",
              "      <td>7.590901</td>\n",
              "    </tr>\n",
              "    <tr>\n",
              "      <th>8</th>\n",
              "      <td>2</td>\n",
              "      <td>240</td>\n",
              "      <td>7.0</td>\n",
              "      <td>10.305797</td>\n",
              "      <td>3.305797</td>\n",
              "      <td>8.116046</td>\n",
              "    </tr>\n",
              "    <tr>\n",
              "      <th>9</th>\n",
              "      <td>12</td>\n",
              "      <td>90</td>\n",
              "      <td>7.3</td>\n",
              "      <td>5.933678</td>\n",
              "      <td>1.366322</td>\n",
              "      <td>7.562941</td>\n",
              "    </tr>\n",
              "    <tr>\n",
              "      <th>10</th>\n",
              "      <td>15</td>\n",
              "      <td>90</td>\n",
              "      <td>8.6</td>\n",
              "      <td>6.485412</td>\n",
              "      <td>2.114588</td>\n",
              "      <td>7.686932</td>\n",
              "    </tr>\n",
              "    <tr>\n",
              "      <th>11</th>\n",
              "      <td>9</td>\n",
              "      <td>120</td>\n",
              "      <td>8.3</td>\n",
              "      <td>6.624190</td>\n",
              "      <td>1.675810</td>\n",
              "      <td>7.632231</td>\n",
              "    </tr>\n",
              "    <tr>\n",
              "      <th>12</th>\n",
              "      <td>6</td>\n",
              "      <td>180</td>\n",
              "      <td>7.9</td>\n",
              "      <td>8.556949</td>\n",
              "      <td>0.656949</td>\n",
              "      <td>7.894804</td>\n",
              "    </tr>\n",
              "    <tr>\n",
              "      <th>13</th>\n",
              "      <td>4</td>\n",
              "      <td>90</td>\n",
              "      <td>6.4</td>\n",
              "      <td>4.462386</td>\n",
              "      <td>1.937614</td>\n",
              "      <td>7.232297</td>\n",
              "    </tr>\n",
              "    <tr>\n",
              "      <th>14</th>\n",
              "      <td>8</td>\n",
              "      <td>150</td>\n",
              "      <td>7.8</td>\n",
              "      <td>7.682525</td>\n",
              "      <td>0.117475</td>\n",
              "      <td>7.784183</td>\n",
              "    </tr>\n",
              "    <tr>\n",
              "      <th>15</th>\n",
              "      <td>12</td>\n",
              "      <td>120</td>\n",
              "      <td>9.4</td>\n",
              "      <td>7.175924</td>\n",
              "      <td>2.224076</td>\n",
              "      <td>7.756223</td>\n",
              "    </tr>\n",
              "    <tr>\n",
              "      <th>16</th>\n",
              "      <td>10</td>\n",
              "      <td>180</td>\n",
              "      <td>8.8</td>\n",
              "      <td>9.292595</td>\n",
              "      <td>0.492595</td>\n",
              "      <td>8.060126</td>\n",
              "    </tr>\n",
              "    <tr>\n",
              "      <th>17</th>\n",
              "      <td>3</td>\n",
              "      <td>90</td>\n",
              "      <td>6.9</td>\n",
              "      <td>4.278475</td>\n",
              "      <td>2.621525</td>\n",
              "      <td>7.190966</td>\n",
              "    </tr>\n",
              "    <tr>\n",
              "      <th>18</th>\n",
              "      <td>15</td>\n",
              "      <td>180</td>\n",
              "      <td>7.7</td>\n",
              "      <td>10.212152</td>\n",
              "      <td>2.512152</td>\n",
              "      <td>8.266778</td>\n",
              "    </tr>\n",
              "    <tr>\n",
              "      <th>19</th>\n",
              "      <td>9</td>\n",
              "      <td>90</td>\n",
              "      <td>8.2</td>\n",
              "      <td>5.381943</td>\n",
              "      <td>2.818057</td>\n",
              "      <td>7.438949</td>\n",
              "    </tr>\n",
              "    <tr>\n",
              "      <th>20</th>\n",
              "      <td>24</td>\n",
              "      <td>120</td>\n",
              "      <td>8.6</td>\n",
              "      <td>9.382862</td>\n",
              "      <td>0.782862</td>\n",
              "      <td>8.252188</td>\n",
              "    </tr>\n",
              "    <tr>\n",
              "      <th>21</th>\n",
              "      <td>5</td>\n",
              "      <td>150</td>\n",
              "      <td>8.1</td>\n",
              "      <td>7.130791</td>\n",
              "      <td>0.969209</td>\n",
              "      <td>7.660191</td>\n",
              "    </tr>\n",
              "    <tr>\n",
              "      <th>22</th>\n",
              "      <td>7</td>\n",
              "      <td>120</td>\n",
              "      <td>7.2</td>\n",
              "      <td>6.256367</td>\n",
              "      <td>0.943633</td>\n",
              "      <td>7.549570</td>\n",
              "    </tr>\n",
              "    <tr>\n",
              "      <th>23</th>\n",
              "      <td>12</td>\n",
              "      <td>180</td>\n",
              "      <td>8.5</td>\n",
              "      <td>9.660418</td>\n",
              "      <td>1.160418</td>\n",
              "      <td>8.142787</td>\n",
              "    </tr>\n",
              "    <tr>\n",
              "      <th>24</th>\n",
              "      <td>2</td>\n",
              "      <td>90</td>\n",
              "      <td>6.1</td>\n",
              "      <td>4.094563</td>\n",
              "      <td>2.005437</td>\n",
              "      <td>7.149636</td>\n",
              "    </tr>\n",
              "  </tbody>\n",
              "</table>\n",
              "</div>"
            ],
            "text/plain": [
              "    inicio_estudo  tempo_estudo_dia  nota   previsao  erro_abs  previsao2\n",
              "0               5               120   8.1   5.888544  2.211456   7.466909\n",
              "1              13                90   6.8   6.117589  0.682411   7.604271\n",
              "2              20               120   7.0   8.647216  1.647216   8.086866\n",
              "3              28                60   7.4   7.634014  0.234014   8.030946\n",
              "4              20               150   9.3   9.889463  0.589463   8.280148\n",
              "5              24               150   7.5  10.625108  3.125108   8.445470\n",
              "6              18                60   7.6   5.794899  1.805101   7.617641\n",
              "7               8               120   8.0   6.440279  1.559721   7.590901\n",
              "8               2               240   7.0  10.305797  3.305797   8.116046\n",
              "9              12                90   7.3   5.933678  1.366322   7.562941\n",
              "10             15                90   8.6   6.485412  2.114588   7.686932\n",
              "11              9               120   8.3   6.624190  1.675810   7.632231\n",
              "12              6               180   7.9   8.556949  0.656949   7.894804\n",
              "13              4                90   6.4   4.462386  1.937614   7.232297\n",
              "14              8               150   7.8   7.682525  0.117475   7.784183\n",
              "15             12               120   9.4   7.175924  2.224076   7.756223\n",
              "16             10               180   8.8   9.292595  0.492595   8.060126\n",
              "17              3                90   6.9   4.278475  2.621525   7.190966\n",
              "18             15               180   7.7  10.212152  2.512152   8.266778\n",
              "19              9                90   8.2   5.381943  2.818057   7.438949\n",
              "20             24               120   8.6   9.382862  0.782862   8.252188\n",
              "21              5               150   8.1   7.130791  0.969209   7.660191\n",
              "22              7               120   7.2   6.256367  0.943633   7.549570\n",
              "23             12               180   8.5   9.660418  1.160418   8.142787\n",
              "24              2                90   6.1   4.094563  2.005437   7.149636"
            ]
          },
          "execution_count": 78,
          "metadata": {},
          "output_type": "execute_result"
        }
      ],
      "source": [
        "resultado['previsao2'] = x2[0]+resultado['inicio_estudo']*x2[1]+resultado['tempo_estudo_dia']*x2[2]\n",
        "resultado"
      ]
    },
    {
      "cell_type": "code",
      "execution_count": 79,
      "metadata": {
        "colab": {
          "base_uri": "https://localhost:8080/"
        },
        "id": "_Vt8cwofNeBc",
        "outputId": "ceb14fa8-af1a-465e-d60e-0cd17c268f57"
      },
      "outputs": [
        {
          "data": {
            "text/plain": [
              "0.6362742744691547"
            ]
          },
          "execution_count": 79,
          "metadata": {},
          "output_type": "execute_result"
        }
      ],
      "source": [
        "# Erro médio absoluto (MAE)\n",
        "from sklearn.metrics import mean_absolute_error\n",
        "mean_absolute_error(resultado.nota, resultado.previsao2)"
      ]
    },
    {
      "cell_type": "code",
      "execution_count": 80,
      "metadata": {
        "colab": {
          "base_uri": "https://localhost:8080/",
          "height": 833
        },
        "id": "dA4qMWtRNpgJ",
        "outputId": "10b779bd-18fb-4f45-82c8-e7d7dbcbbbf5"
      },
      "outputs": [
        {
          "data": {
            "text/html": [
              "<div>\n",
              "<style scoped>\n",
              "    .dataframe tbody tr th:only-of-type {\n",
              "        vertical-align: middle;\n",
              "    }\n",
              "\n",
              "    .dataframe tbody tr th {\n",
              "        vertical-align: top;\n",
              "    }\n",
              "\n",
              "    .dataframe thead th {\n",
              "        text-align: right;\n",
              "    }\n",
              "</style>\n",
              "<table border=\"1\" class=\"dataframe\">\n",
              "  <thead>\n",
              "    <tr style=\"text-align: right;\">\n",
              "      <th></th>\n",
              "      <th>inicio_estudo</th>\n",
              "      <th>tempo_estudo_dia</th>\n",
              "      <th>nota</th>\n",
              "      <th>previsao</th>\n",
              "      <th>erro_abs</th>\n",
              "      <th>previsao2</th>\n",
              "      <th>erro_abs2</th>\n",
              "    </tr>\n",
              "  </thead>\n",
              "  <tbody>\n",
              "    <tr>\n",
              "      <th>0</th>\n",
              "      <td>5</td>\n",
              "      <td>120</td>\n",
              "      <td>8.1</td>\n",
              "      <td>5.888544</td>\n",
              "      <td>2.211456</td>\n",
              "      <td>7.466909</td>\n",
              "      <td>0.633091</td>\n",
              "    </tr>\n",
              "    <tr>\n",
              "      <th>1</th>\n",
              "      <td>13</td>\n",
              "      <td>90</td>\n",
              "      <td>6.8</td>\n",
              "      <td>6.117589</td>\n",
              "      <td>0.682411</td>\n",
              "      <td>7.604271</td>\n",
              "      <td>0.804271</td>\n",
              "    </tr>\n",
              "    <tr>\n",
              "      <th>2</th>\n",
              "      <td>20</td>\n",
              "      <td>120</td>\n",
              "      <td>7.0</td>\n",
              "      <td>8.647216</td>\n",
              "      <td>1.647216</td>\n",
              "      <td>8.086866</td>\n",
              "      <td>1.086866</td>\n",
              "    </tr>\n",
              "    <tr>\n",
              "      <th>3</th>\n",
              "      <td>28</td>\n",
              "      <td>60</td>\n",
              "      <td>7.4</td>\n",
              "      <td>7.634014</td>\n",
              "      <td>0.234014</td>\n",
              "      <td>8.030946</td>\n",
              "      <td>0.630946</td>\n",
              "    </tr>\n",
              "    <tr>\n",
              "      <th>4</th>\n",
              "      <td>20</td>\n",
              "      <td>150</td>\n",
              "      <td>9.3</td>\n",
              "      <td>9.889463</td>\n",
              "      <td>0.589463</td>\n",
              "      <td>8.280148</td>\n",
              "      <td>1.019852</td>\n",
              "    </tr>\n",
              "    <tr>\n",
              "      <th>5</th>\n",
              "      <td>24</td>\n",
              "      <td>150</td>\n",
              "      <td>7.5</td>\n",
              "      <td>10.625108</td>\n",
              "      <td>3.125108</td>\n",
              "      <td>8.445470</td>\n",
              "      <td>0.945470</td>\n",
              "    </tr>\n",
              "    <tr>\n",
              "      <th>6</th>\n",
              "      <td>18</td>\n",
              "      <td>60</td>\n",
              "      <td>7.6</td>\n",
              "      <td>5.794899</td>\n",
              "      <td>1.805101</td>\n",
              "      <td>7.617641</td>\n",
              "      <td>0.017641</td>\n",
              "    </tr>\n",
              "    <tr>\n",
              "      <th>7</th>\n",
              "      <td>8</td>\n",
              "      <td>120</td>\n",
              "      <td>8.0</td>\n",
              "      <td>6.440279</td>\n",
              "      <td>1.559721</td>\n",
              "      <td>7.590901</td>\n",
              "      <td>0.409099</td>\n",
              "    </tr>\n",
              "    <tr>\n",
              "      <th>8</th>\n",
              "      <td>2</td>\n",
              "      <td>240</td>\n",
              "      <td>7.0</td>\n",
              "      <td>10.305797</td>\n",
              "      <td>3.305797</td>\n",
              "      <td>8.116046</td>\n",
              "      <td>1.116046</td>\n",
              "    </tr>\n",
              "    <tr>\n",
              "      <th>9</th>\n",
              "      <td>12</td>\n",
              "      <td>90</td>\n",
              "      <td>7.3</td>\n",
              "      <td>5.933678</td>\n",
              "      <td>1.366322</td>\n",
              "      <td>7.562941</td>\n",
              "      <td>0.262941</td>\n",
              "    </tr>\n",
              "    <tr>\n",
              "      <th>10</th>\n",
              "      <td>15</td>\n",
              "      <td>90</td>\n",
              "      <td>8.6</td>\n",
              "      <td>6.485412</td>\n",
              "      <td>2.114588</td>\n",
              "      <td>7.686932</td>\n",
              "      <td>0.913068</td>\n",
              "    </tr>\n",
              "    <tr>\n",
              "      <th>11</th>\n",
              "      <td>9</td>\n",
              "      <td>120</td>\n",
              "      <td>8.3</td>\n",
              "      <td>6.624190</td>\n",
              "      <td>1.675810</td>\n",
              "      <td>7.632231</td>\n",
              "      <td>0.667769</td>\n",
              "    </tr>\n",
              "    <tr>\n",
              "      <th>12</th>\n",
              "      <td>6</td>\n",
              "      <td>180</td>\n",
              "      <td>7.9</td>\n",
              "      <td>8.556949</td>\n",
              "      <td>0.656949</td>\n",
              "      <td>7.894804</td>\n",
              "      <td>0.005196</td>\n",
              "    </tr>\n",
              "    <tr>\n",
              "      <th>13</th>\n",
              "      <td>4</td>\n",
              "      <td>90</td>\n",
              "      <td>6.4</td>\n",
              "      <td>4.462386</td>\n",
              "      <td>1.937614</td>\n",
              "      <td>7.232297</td>\n",
              "      <td>0.832297</td>\n",
              "    </tr>\n",
              "    <tr>\n",
              "      <th>14</th>\n",
              "      <td>8</td>\n",
              "      <td>150</td>\n",
              "      <td>7.8</td>\n",
              "      <td>7.682525</td>\n",
              "      <td>0.117475</td>\n",
              "      <td>7.784183</td>\n",
              "      <td>0.015817</td>\n",
              "    </tr>\n",
              "    <tr>\n",
              "      <th>15</th>\n",
              "      <td>12</td>\n",
              "      <td>120</td>\n",
              "      <td>9.4</td>\n",
              "      <td>7.175924</td>\n",
              "      <td>2.224076</td>\n",
              "      <td>7.756223</td>\n",
              "      <td>1.643777</td>\n",
              "    </tr>\n",
              "    <tr>\n",
              "      <th>16</th>\n",
              "      <td>10</td>\n",
              "      <td>180</td>\n",
              "      <td>8.8</td>\n",
              "      <td>9.292595</td>\n",
              "      <td>0.492595</td>\n",
              "      <td>8.060126</td>\n",
              "      <td>0.739874</td>\n",
              "    </tr>\n",
              "    <tr>\n",
              "      <th>17</th>\n",
              "      <td>3</td>\n",
              "      <td>90</td>\n",
              "      <td>6.9</td>\n",
              "      <td>4.278475</td>\n",
              "      <td>2.621525</td>\n",
              "      <td>7.190966</td>\n",
              "      <td>0.290966</td>\n",
              "    </tr>\n",
              "    <tr>\n",
              "      <th>18</th>\n",
              "      <td>15</td>\n",
              "      <td>180</td>\n",
              "      <td>7.7</td>\n",
              "      <td>10.212152</td>\n",
              "      <td>2.512152</td>\n",
              "      <td>8.266778</td>\n",
              "      <td>0.566778</td>\n",
              "    </tr>\n",
              "    <tr>\n",
              "      <th>19</th>\n",
              "      <td>9</td>\n",
              "      <td>90</td>\n",
              "      <td>8.2</td>\n",
              "      <td>5.381943</td>\n",
              "      <td>2.818057</td>\n",
              "      <td>7.438949</td>\n",
              "      <td>0.761051</td>\n",
              "    </tr>\n",
              "    <tr>\n",
              "      <th>20</th>\n",
              "      <td>24</td>\n",
              "      <td>120</td>\n",
              "      <td>8.6</td>\n",
              "      <td>9.382862</td>\n",
              "      <td>0.782862</td>\n",
              "      <td>8.252188</td>\n",
              "      <td>0.347812</td>\n",
              "    </tr>\n",
              "    <tr>\n",
              "      <th>21</th>\n",
              "      <td>5</td>\n",
              "      <td>150</td>\n",
              "      <td>8.1</td>\n",
              "      <td>7.130791</td>\n",
              "      <td>0.969209</td>\n",
              "      <td>7.660191</td>\n",
              "      <td>0.439809</td>\n",
              "    </tr>\n",
              "    <tr>\n",
              "      <th>22</th>\n",
              "      <td>7</td>\n",
              "      <td>120</td>\n",
              "      <td>7.2</td>\n",
              "      <td>6.256367</td>\n",
              "      <td>0.943633</td>\n",
              "      <td>7.549570</td>\n",
              "      <td>0.349570</td>\n",
              "    </tr>\n",
              "    <tr>\n",
              "      <th>23</th>\n",
              "      <td>12</td>\n",
              "      <td>180</td>\n",
              "      <td>8.5</td>\n",
              "      <td>9.660418</td>\n",
              "      <td>1.160418</td>\n",
              "      <td>8.142787</td>\n",
              "      <td>0.357213</td>\n",
              "    </tr>\n",
              "    <tr>\n",
              "      <th>24</th>\n",
              "      <td>2</td>\n",
              "      <td>90</td>\n",
              "      <td>6.1</td>\n",
              "      <td>4.094563</td>\n",
              "      <td>2.005437</td>\n",
              "      <td>7.149636</td>\n",
              "      <td>1.049636</td>\n",
              "    </tr>\n",
              "  </tbody>\n",
              "</table>\n",
              "</div>"
            ],
            "text/plain": [
              "    inicio_estudo  tempo_estudo_dia  nota   previsao  erro_abs  previsao2  \\\n",
              "0               5               120   8.1   5.888544  2.211456   7.466909   \n",
              "1              13                90   6.8   6.117589  0.682411   7.604271   \n",
              "2              20               120   7.0   8.647216  1.647216   8.086866   \n",
              "3              28                60   7.4   7.634014  0.234014   8.030946   \n",
              "4              20               150   9.3   9.889463  0.589463   8.280148   \n",
              "5              24               150   7.5  10.625108  3.125108   8.445470   \n",
              "6              18                60   7.6   5.794899  1.805101   7.617641   \n",
              "7               8               120   8.0   6.440279  1.559721   7.590901   \n",
              "8               2               240   7.0  10.305797  3.305797   8.116046   \n",
              "9              12                90   7.3   5.933678  1.366322   7.562941   \n",
              "10             15                90   8.6   6.485412  2.114588   7.686932   \n",
              "11              9               120   8.3   6.624190  1.675810   7.632231   \n",
              "12              6               180   7.9   8.556949  0.656949   7.894804   \n",
              "13              4                90   6.4   4.462386  1.937614   7.232297   \n",
              "14              8               150   7.8   7.682525  0.117475   7.784183   \n",
              "15             12               120   9.4   7.175924  2.224076   7.756223   \n",
              "16             10               180   8.8   9.292595  0.492595   8.060126   \n",
              "17              3                90   6.9   4.278475  2.621525   7.190966   \n",
              "18             15               180   7.7  10.212152  2.512152   8.266778   \n",
              "19              9                90   8.2   5.381943  2.818057   7.438949   \n",
              "20             24               120   8.6   9.382862  0.782862   8.252188   \n",
              "21              5               150   8.1   7.130791  0.969209   7.660191   \n",
              "22              7               120   7.2   6.256367  0.943633   7.549570   \n",
              "23             12               180   8.5   9.660418  1.160418   8.142787   \n",
              "24              2                90   6.1   4.094563  2.005437   7.149636   \n",
              "\n",
              "    erro_abs2  \n",
              "0    0.633091  \n",
              "1    0.804271  \n",
              "2    1.086866  \n",
              "3    0.630946  \n",
              "4    1.019852  \n",
              "5    0.945470  \n",
              "6    0.017641  \n",
              "7    0.409099  \n",
              "8    1.116046  \n",
              "9    0.262941  \n",
              "10   0.913068  \n",
              "11   0.667769  \n",
              "12   0.005196  \n",
              "13   0.832297  \n",
              "14   0.015817  \n",
              "15   1.643777  \n",
              "16   0.739874  \n",
              "17   0.290966  \n",
              "18   0.566778  \n",
              "19   0.761051  \n",
              "20   0.347812  \n",
              "21   0.439809  \n",
              "22   0.349570  \n",
              "23   0.357213  \n",
              "24   1.049636  "
            ]
          },
          "execution_count": 80,
          "metadata": {},
          "output_type": "execute_result"
        }
      ],
      "source": [
        "resultado['erro_abs2'] = abs (resultado.nota - resultado.previsao2)\n",
        "resultado"
      ]
    },
    {
      "cell_type": "code",
      "execution_count": 81,
      "metadata": {
        "id": "33t6bYgdy7LC"
      },
      "outputs": [],
      "source": [
        "import statsmodels.formula.api as smf\n",
        "import statsmodels.stats.api as sms"
      ]
    },
    {
      "cell_type": "code",
      "execution_count": 82,
      "metadata": {
        "id": "LRJ3RZsQy-2y"
      },
      "outputs": [],
      "source": [
        "# Criação do modelo Usando a biblioteca Statsmodels\n",
        "modelo = smf.ols('nota ~ inicio_estudo + tempo_estudo_dia', data = nota).fit()"
      ]
    },
    {
      "cell_type": "code",
      "execution_count": 83,
      "metadata": {
        "colab": {
          "base_uri": "https://localhost:8080/"
        },
        "id": "JKeHUjQMDJAI",
        "outputId": "0d4bf563-5866-4d42-f0a2-dde3356994e1"
      },
      "outputs": [
        {
          "name": "stdout",
          "output_type": "stream",
          "text": [
            "                            OLS Regression Results                            \n",
            "==============================================================================\n",
            "Dep. Variable:                   nota   R-squared:                       0.184\n",
            "Model:                            OLS   Adj. R-squared:                  0.110\n",
            "Method:                 Least Squares   F-statistic:                     2.485\n",
            "Date:                Wed, 12 Mar 2025   Prob (F-statistic):              0.106\n",
            "Time:                        15:41:59   Log-Likelihood:                -28.151\n",
            "No. Observations:                  25   AIC:                             62.30\n",
            "Df Residuals:                      22   BIC:                             65.96\n",
            "Df Model:                           2                                         \n",
            "Covariance Type:            nonrobust                                         \n",
            "====================================================================================\n",
            "                       coef    std err          t      P>|t|      [0.025      0.975]\n",
            "------------------------------------------------------------------------------------\n",
            "Intercept            6.4871      0.624     10.400      0.000       5.193       7.781\n",
            "inicio_estudo        0.0413      0.023      1.812      0.084      -0.006       0.089\n",
            "tempo_estudo_dia     0.0064      0.004      1.674      0.108      -0.002       0.014\n",
            "==============================================================================\n",
            "Omnibus:                        1.269   Durbin-Watson:                   1.868\n",
            "Prob(Omnibus):                  0.530   Jarque-Bera (JB):                0.933\n",
            "Skew:                           0.155   Prob(JB):                        0.627\n",
            "Kurtosis:                       2.106   Cond. No.                         523.\n",
            "==============================================================================\n",
            "\n",
            "Notes:\n",
            "[1] Standard Errors assume that the covariance matrix of the errors is correctly specified.\n"
          ]
        }
      ],
      "source": [
        "print(modelo.summary())"
      ]
    },
    {
      "cell_type": "markdown",
      "metadata": {
        "id": "HeJyM-QGDeu4"
      },
      "source": [
        "**nota = 6.4871 + 0.0413.inicio_estudo + 0.00644.tempo_estudo_dia**"
      ]
    }
  ],
  "metadata": {
    "colab": {
      "provenance": []
    },
    "kernelspec": {
      "display_name": "base",
      "language": "python",
      "name": "python3"
    },
    "language_info": {
      "codemirror_mode": {
        "name": "ipython",
        "version": 3
      },
      "file_extension": ".py",
      "mimetype": "text/x-python",
      "name": "python",
      "nbconvert_exporter": "python",
      "pygments_lexer": "ipython3",
      "version": "3.12.7"
    }
  },
  "nbformat": 4,
  "nbformat_minor": 0
}
